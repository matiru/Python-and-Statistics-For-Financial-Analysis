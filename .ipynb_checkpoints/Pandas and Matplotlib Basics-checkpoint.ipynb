{
 "cells": [
  {
   "cell_type": "code",
   "execution_count": 1,
   "id": "6b73a9e7",
   "metadata": {},
   "outputs": [],
   "source": [
    "import pandas as pd"
   ]
  },
  {
   "cell_type": "code",
   "execution_count": 2,
   "id": "c7df1d2e",
   "metadata": {},
   "outputs": [],
   "source": [
    "fb = pd.read_csv(\"facebook.csv\")\n"
   ]
  },
  {
   "cell_type": "code",
   "execution_count": 3,
   "id": "4092b38a",
   "metadata": {},
   "outputs": [
    {
     "name": "stdout",
     "output_type": "stream",
     "text": [
      "         Date       Open       High        Low      Close  Adj Close    Volume\n",
      "0  2014-12-31  46.730000  47.439999  46.450001  46.450001  42.848763  21552500\n",
      "1  2015-01-02  46.660000  47.419998  46.540001  46.759998  43.134731  27913900\n",
      "2  2015-01-05  46.369999  46.730000  46.250000  46.330002  42.738068  39673900\n",
      "3  2015-01-06  46.380001  46.750000  45.540001  45.650002  42.110783  36447900\n",
      "4  2015-01-07  45.980000  46.459999  45.490002  46.230000  42.645817  29114100\n",
      "5  2015-01-08  46.750000  47.750000  46.720001  47.590000  43.900375  29645200\n",
      "6  2015-01-09  47.610001  47.820000  46.900002  47.189999  43.531395  23942800\n",
      "7  2015-01-12  47.419998  47.540001  46.360001  46.599998  42.987129  23651900\n",
      "8  2015-01-13  46.970001  47.910000  46.060001  46.360001  42.765747  35270600\n",
      "9  2015-01-14  45.959999  46.240002  45.619999  45.959999  42.396751  29719600\n",
      "2014-12-31\n"
     ]
    }
   ],
   "source": [
    "ms = pd.read_csv(\"microsoft.csv\")\n",
    "print(ms.head(10))\n",
    "print(fb.iloc[0,0])\n",
    "\n"
   ]
  },
  {
   "cell_type": "code",
   "execution_count": 4,
   "id": "e3ed9dbd",
   "metadata": {},
   "outputs": [
    {
     "data": {
      "text/html": [
       "<div>\n",
       "<style scoped>\n",
       "    .dataframe tbody tr th:only-of-type {\n",
       "        vertical-align: middle;\n",
       "    }\n",
       "\n",
       "    .dataframe tbody tr th {\n",
       "        vertical-align: top;\n",
       "    }\n",
       "\n",
       "    .dataframe thead th {\n",
       "        text-align: right;\n",
       "    }\n",
       "</style>\n",
       "<table border=\"1\" class=\"dataframe\">\n",
       "  <thead>\n",
       "    <tr style=\"text-align: right;\">\n",
       "      <th></th>\n",
       "      <th>Date</th>\n",
       "      <th>Open</th>\n",
       "      <th>High</th>\n",
       "      <th>Low</th>\n",
       "      <th>Close</th>\n",
       "      <th>Adj Close</th>\n",
       "      <th>Volume</th>\n",
       "    </tr>\n",
       "  </thead>\n",
       "  <tbody>\n",
       "    <tr>\n",
       "      <th>0</th>\n",
       "      <td>2014-12-31</td>\n",
       "      <td>20.400000</td>\n",
       "      <td>20.510000</td>\n",
       "      <td>19.990000</td>\n",
       "      <td>20.049999</td>\n",
       "      <td>19.459270</td>\n",
       "      <td>4157500</td>\n",
       "    </tr>\n",
       "    <tr>\n",
       "      <th>1</th>\n",
       "      <td>2015-01-02</td>\n",
       "      <td>20.129999</td>\n",
       "      <td>20.280001</td>\n",
       "      <td>19.809999</td>\n",
       "      <td>20.129999</td>\n",
       "      <td>19.536913</td>\n",
       "      <td>2842000</td>\n",
       "    </tr>\n",
       "    <tr>\n",
       "      <th>2</th>\n",
       "      <td>2015-01-05</td>\n",
       "      <td>20.129999</td>\n",
       "      <td>20.190001</td>\n",
       "      <td>19.700001</td>\n",
       "      <td>19.790001</td>\n",
       "      <td>19.206934</td>\n",
       "      <td>4948800</td>\n",
       "    </tr>\n",
       "    <tr>\n",
       "      <th>3</th>\n",
       "      <td>2015-01-06</td>\n",
       "      <td>19.820000</td>\n",
       "      <td>19.840000</td>\n",
       "      <td>19.170000</td>\n",
       "      <td>19.190001</td>\n",
       "      <td>18.624611</td>\n",
       "      <td>4944100</td>\n",
       "    </tr>\n",
       "    <tr>\n",
       "      <th>4</th>\n",
       "      <td>2015-01-07</td>\n",
       "      <td>19.330000</td>\n",
       "      <td>19.500000</td>\n",
       "      <td>19.080000</td>\n",
       "      <td>19.139999</td>\n",
       "      <td>18.576082</td>\n",
       "      <td>8045200</td>\n",
       "    </tr>\n",
       "    <tr>\n",
       "      <th>5</th>\n",
       "      <td>2015-01-08</td>\n",
       "      <td>19.360001</td>\n",
       "      <td>19.980000</td>\n",
       "      <td>19.350000</td>\n",
       "      <td>19.860001</td>\n",
       "      <td>19.274870</td>\n",
       "      <td>7094500</td>\n",
       "    </tr>\n",
       "    <tr>\n",
       "      <th>6</th>\n",
       "      <td>2015-01-09</td>\n",
       "      <td>19.930000</td>\n",
       "      <td>20.090000</td>\n",
       "      <td>19.660000</td>\n",
       "      <td>19.940001</td>\n",
       "      <td>19.352512</td>\n",
       "      <td>5238500</td>\n",
       "    </tr>\n",
       "    <tr>\n",
       "      <th>7</th>\n",
       "      <td>2015-01-12</td>\n",
       "      <td>19.990000</td>\n",
       "      <td>20.000000</td>\n",
       "      <td>19.510000</td>\n",
       "      <td>19.690001</td>\n",
       "      <td>19.109879</td>\n",
       "      <td>4768300</td>\n",
       "    </tr>\n",
       "    <tr>\n",
       "      <th>8</th>\n",
       "      <td>2015-01-13</td>\n",
       "      <td>19.840000</td>\n",
       "      <td>20.240000</td>\n",
       "      <td>19.520000</td>\n",
       "      <td>19.660000</td>\n",
       "      <td>19.080761</td>\n",
       "      <td>5909700</td>\n",
       "    </tr>\n",
       "    <tr>\n",
       "      <th>9</th>\n",
       "      <td>2015-01-14</td>\n",
       "      <td>19.450001</td>\n",
       "      <td>19.799999</td>\n",
       "      <td>19.400000</td>\n",
       "      <td>19.740000</td>\n",
       "      <td>19.158401</td>\n",
       "      <td>3881500</td>\n",
       "    </tr>\n",
       "    <tr>\n",
       "      <th>10</th>\n",
       "      <td>2015-01-15</td>\n",
       "      <td>19.879999</td>\n",
       "      <td>20.000000</td>\n",
       "      <td>19.590000</td>\n",
       "      <td>19.600000</td>\n",
       "      <td>19.022530</td>\n",
       "      <td>4723300</td>\n",
       "    </tr>\n",
       "    <tr>\n",
       "      <th>11</th>\n",
       "      <td>2015-01-16</td>\n",
       "      <td>19.570000</td>\n",
       "      <td>19.980000</td>\n",
       "      <td>19.510000</td>\n",
       "      <td>19.959999</td>\n",
       "      <td>19.371923</td>\n",
       "      <td>4537800</td>\n",
       "    </tr>\n",
       "    <tr>\n",
       "      <th>12</th>\n",
       "      <td>2015-01-20</td>\n",
       "      <td>20.100000</td>\n",
       "      <td>20.209999</td>\n",
       "      <td>19.770000</td>\n",
       "      <td>20.020000</td>\n",
       "      <td>19.430159</td>\n",
       "      <td>3487500</td>\n",
       "    </tr>\n",
       "    <tr>\n",
       "      <th>13</th>\n",
       "      <td>2015-01-21</td>\n",
       "      <td>19.910000</td>\n",
       "      <td>20.350000</td>\n",
       "      <td>19.770000</td>\n",
       "      <td>20.299999</td>\n",
       "      <td>19.701904</td>\n",
       "      <td>3619500</td>\n",
       "    </tr>\n",
       "    <tr>\n",
       "      <th>14</th>\n",
       "      <td>2015-01-22</td>\n",
       "      <td>20.340000</td>\n",
       "      <td>20.709999</td>\n",
       "      <td>20.129999</td>\n",
       "      <td>20.650000</td>\n",
       "      <td>20.041594</td>\n",
       "      <td>3992800</td>\n",
       "    </tr>\n",
       "  </tbody>\n",
       "</table>\n",
       "</div>"
      ],
      "text/plain": [
       "          Date       Open       High        Low      Close  Adj Close   Volume\n",
       "0   2014-12-31  20.400000  20.510000  19.990000  20.049999  19.459270  4157500\n",
       "1   2015-01-02  20.129999  20.280001  19.809999  20.129999  19.536913  2842000\n",
       "2   2015-01-05  20.129999  20.190001  19.700001  19.790001  19.206934  4948800\n",
       "3   2015-01-06  19.820000  19.840000  19.170000  19.190001  18.624611  4944100\n",
       "4   2015-01-07  19.330000  19.500000  19.080000  19.139999  18.576082  8045200\n",
       "5   2015-01-08  19.360001  19.980000  19.350000  19.860001  19.274870  7094500\n",
       "6   2015-01-09  19.930000  20.090000  19.660000  19.940001  19.352512  5238500\n",
       "7   2015-01-12  19.990000  20.000000  19.510000  19.690001  19.109879  4768300\n",
       "8   2015-01-13  19.840000  20.240000  19.520000  19.660000  19.080761  5909700\n",
       "9   2015-01-14  19.450001  19.799999  19.400000  19.740000  19.158401  3881500\n",
       "10  2015-01-15  19.879999  20.000000  19.590000  19.600000  19.022530  4723300\n",
       "11  2015-01-16  19.570000  19.980000  19.510000  19.959999  19.371923  4537800\n",
       "12  2015-01-20  20.100000  20.209999  19.770000  20.020000  19.430159  3487500\n",
       "13  2015-01-21  19.910000  20.350000  19.770000  20.299999  19.701904  3619500\n",
       "14  2015-01-22  20.340000  20.709999  20.129999  20.650000  20.041594  3992800"
      ]
     },
     "execution_count": 4,
     "metadata": {},
     "output_type": "execute_result"
    }
   ],
   "source": [
    "fb.head(15)"
   ]
  },
  {
   "cell_type": "code",
   "execution_count": 5,
   "id": "73b4ad81",
   "metadata": {},
   "outputs": [
    {
     "data": {
      "text/plain": [
       "Index(['Date', 'Open', 'High', 'Low', 'Close', 'Adj Close', 'Volume'], dtype='object')"
      ]
     },
     "execution_count": 5,
     "metadata": {},
     "output_type": "execute_result"
    }
   ],
   "source": [
    "fb.index[0]\n",
    "fb.columns\n",
    "# fb.shape\n",
    "# #fb.tail(10)\n",
    "# fb.describe()\n"
   ]
  },
  {
   "cell_type": "code",
   "execution_count": 6,
   "id": "e03f7959",
   "metadata": {},
   "outputs": [
    {
     "name": "stdout",
     "output_type": "stream",
     "text": [
      "RangeIndex(start=0, stop=780, step=1)\n"
     ]
    }
   ],
   "source": [
    "print(fb.index)"
   ]
  },
  {
   "cell_type": "code",
   "execution_count": 7,
   "id": "e0d8077f",
   "metadata": {},
   "outputs": [
    {
     "data": {
      "text/plain": [
       "20.049999"
      ]
     },
     "execution_count": 7,
     "metadata": {},
     "output_type": "execute_result"
    }
   ],
   "source": [
    "fb.loc[0 ,'Close']"
   ]
  },
  {
   "cell_type": "code",
   "execution_count": 8,
   "id": "1ac0472e",
   "metadata": {},
   "outputs": [],
   "source": [
    "fb.set_index('Date' ,inplace = True)"
   ]
  },
  {
   "cell_type": "code",
   "execution_count": 9,
   "id": "5be703e9",
   "metadata": {},
   "outputs": [
    {
     "data": {
      "text/plain": [
       "Open         2.358500e+02\n",
       "High         2.398300e+02\n",
       "Low          2.351000e+02\n",
       "Close        2.389100e+02\n",
       "Adj Close    2.389100e+02\n",
       "Volume       1.188070e+07\n",
       "Name: 2018-01-23, dtype: float64"
      ]
     },
     "execution_count": 9,
     "metadata": {},
     "output_type": "execute_result"
    }
   ],
   "source": [
    "fb.columns\n",
    "fb.loc['2018-01-23', :]"
   ]
  },
  {
   "cell_type": "code",
   "execution_count": 10,
   "id": "98431e65",
   "metadata": {},
   "outputs": [],
   "source": [
    "import matplotlib.pyplot as plt"
   ]
  },
  {
   "cell_type": "code",
   "execution_count": 11,
   "id": "0ab9bce8",
   "metadata": {},
   "outputs": [
    {
     "data": {
      "text/plain": [
       "<AxesSubplot:xlabel='Date'>"
      ]
     },
     "execution_count": 11,
     "metadata": {},
     "output_type": "execute_result"
    },
    {
     "data": {
      "image/png": "[encoded data removed]",
      "text/plain": [
       "<Figure size 640x480 with 1 Axes>"
      ]
     },
     "metadata": {},
     "output_type": "display_data"
    }
   ],
   "source": [
    "fb.loc['2015-01-01':'2015-12-31', 'Close'].plot()"
   ]
  },
  {
   "cell_type": "code",
   "execution_count": null,
   "id": "14314151",
   "metadata": {},
   "outputs": [],
   "source": []
  },
  {
   "cell_type": "code",
   "execution_count": null,
   "id": "897708da",
   "metadata": {},
   "outputs": [],
   "source": []
  }
 ],
 "metadata": {
  "kernelspec": {
   "display_name": "Python 3 (ipykernel)",
   "language": "python",
   "name": "python3"
  },
  "language_info": {
   "codemirror_mode": {
    "name": "ipython",
    "version": 3
   },
   "file_extension": ".py",
   "mimetype": "text/x-python",
   "name": "python",
   "nbconvert_exporter": "python",
   "pygments_lexer": "ipython3",
   "version": "3.9.13"
  }
 },
 "nbformat": 4,
 "nbformat_minor": 5
}
