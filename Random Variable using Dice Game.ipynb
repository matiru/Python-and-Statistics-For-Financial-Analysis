{
 "cells": [
  {
   "cell_type": "code",
   "execution_count": 1,
   "id": "506a4475",
   "metadata": {},
   "outputs": [],
   "source": [
    "import numpy as np\n",
    "import pandas as pd\n"
   ]
  },
  {
   "cell_type": "code",
   "execution_count": 7,
   "id": "69f17637",
   "metadata": {},
   "outputs": [
    {
     "name": "stdout",
     "output_type": "stream",
     "text": [
      "Sum of dice is  9\n"
     ]
    }
   ],
   "source": [
    "#mimic rolling the die 2 times\n",
    "die = pd.DataFrame([1,2,3,4,5,6,])\n",
    "sum_of_dice = die.sample(2, replace = True).sum().loc[0]\n",
    "print('Sum of dice is ' , sum_of_dice)"
   ]
  },
  {
   "cell_type": "code",
   "execution_count": 9,
   "id": "3b20604a",
   "metadata": {},
   "outputs": [
    {
     "name": "stdout",
     "output_type": "stream",
     "text": [
      "Sum of three dice is 15\n"
     ]
    }
   ],
   "source": [
    "np.random.seed(1)\n",
    "sum_of_three_dice= die.sample(3, replace = True).sum().loc[0]\n",
    "print('Sum of three dice is', sum_of_three_dice)"
   ]
  },
  {
   "cell_type": "code",
   "execution_count": 18,
   "id": "723f32df",
   "metadata": {},
   "outputs": [
    {
     "name": "stdout",
     "output_type": "stream",
     "text": [
      "[6, 11, 6, 5, 5, 8, 3, 11, 8, 6, 10, 7, 10, 9, 5, 4, 7, 6, 8, 10, 7, 6, 10, 7, 10, 10, 6, 4, 2, 7, 8, 4, 5, 8, 6, 2, 6, 10, 5, 10, 2, 2, 11, 10, 9, 9, 5, 5, 9, 8]\n"
     ]
    }
   ],
   "source": [
    "# The following code mimics the roll dice game for 50 times. And the results are all stored into \"Result\"\n",
    "# Lets try and get the results of 50 sum of faces.\n",
    "trial = 50\n",
    "result = [die.sample(2, replace=True).sum().loc[0] for i in range(trial)]\n",
    "#print the first 10 results\n",
    "print(result[:50])"
   ]
  },
  {
   "cell_type": "code",
   "execution_count": null,
   "id": "eb377cd1",
   "metadata": {},
   "outputs": [],
   "source": []
  },
  {
   "cell_type": "code",
   "execution_count": null,
   "id": "e1811a5e",
   "metadata": {},
   "outputs": [],
   "source": []
  }
 ],
 "metadata": {
  "kernelspec": {
   "display_name": "Python 3 (ipykernel)",
   "language": "python",
   "name": "python3"
  },
  "language_info": {
   "codemirror_mode": {
    "name": "ipython",
    "version": 3
   },
   "file_extension": ".py",
   "mimetype": "text/x-python",
   "name": "python",
   "nbconvert_exporter": "python",
   "pygments_lexer": "ipython3",
   "version": "3.9.13"
  }
 },
 "nbformat": 4,
 "nbformat_minor": 5
}
